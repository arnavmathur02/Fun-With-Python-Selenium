{
 "cells": [
  {
   "cell_type": "markdown",
   "metadata": {},
   "source": [
    "# Get Excel file containing Name of User and their Phone Number from a Facebook Post - A need for every Business"
   ]
  },
  {
   "cell_type": "markdown",
   "metadata": {},
   "source": [
    "#### Remember situation when -:\n",
    "    1. You post on facebook to get Phone numbers from user for your business\n",
    "    2. You want phone number of any kind of Service operator to choose the the best\n",
    "    3. You are a Recuiter and you want to find the best cadidate using social media network "
   ]
  },
  {
   "cell_type": "code",
   "execution_count": 22,
   "metadata": {},
   "outputs": [
    {
     "name": "stdout",
     "output_type": "stream",
     "text": [
      "Invalid URL\n"
     ]
    }
   ],
   "source": [
    "from selenium import webdriver\n",
    "from selenium.webdriver.common.keys import Keys\n",
    "from selenium.webdriver.support.ui import WebDriverWait\n",
    "from selenium.webdriver.support import expected_conditions as EC\n",
    "from selenium.webdriver.common.by import By\n",
    "from selenium.common.exceptions import TimeoutException\n",
    "import time\n",
    "import csv\n",
    "import re\n",
    "\n",
    "browser = webdriver.Chrome()\n",
    "#URL of Facebook Post\n",
    "try:    \n",
    "    url = \"\"\n",
    "    browser.get(url)\n",
    "    time.sleep(10)\n",
    "\n",
    "    try:\n",
    "        commentsLink = browser.find_element_by_class_name(\"_524d\")\n",
    "        link = commentsLink.find_element_by_css_selector(\"a\")\n",
    "        link.click()\n",
    "    except:\n",
    "        print(\"No link to click\")\n",
    "\n",
    "\n",
    "    delay = 10 # seconds\n",
    "\n",
    "    try:\n",
    "        previousComments = WebDriverWait(browser, delay).until(EC.presence_of_element_located((By.CLASS_NAME, 'UFIPagerLink')))\n",
    "        print(\"Comments are ready!\")\n",
    "    except TimeoutException:\n",
    "        print(\"Loading took too much time!\")\n",
    "\n",
    "    try:\n",
    "        while(True):\n",
    "            previousComments = browser.find_element_by_class_name(\"UFIPagerLink\")\n",
    "            previousComments.click()\n",
    "    except:\n",
    "        print(\"No more previous/next comment links\")\n",
    "\n",
    "\n",
    "    comments = []\n",
    "    try:\n",
    "        cOuterBody = browser.find_elements_by_class_name(\"UFICommentActorAndBody\")\n",
    "        for commentBody in cOuterBody:\n",
    "            commentSpan = commentBody.find_element_by_css_selector(\"span\")\n",
    "            name = commentSpan.text\n",
    "            phoneNumbers = re.findall(r\"\\d{10}\", commentBody.text)\n",
    "            detail = []\n",
    "            detail.append(name)\n",
    "            if(phoneNumbers):\n",
    "                detail.append(phoneNumbers[0])\n",
    "            comments.append(detail)\n",
    "    except:\n",
    "        print(\"No more comments to read\")\n",
    "\n",
    "\n",
    "    with open(\"FacebookComments_output.csv\", 'w', encoding='utf-8', newline='') as myfile:\n",
    "        wr = csv.writer(myfile, quoting=csv.QUOTE_ALL)\n",
    "        for comment in comments:\n",
    "            wr.writerow(comment)\n",
    "except:\n",
    "    print(\"Invalid URL\")"
   ]
  },
  {
   "cell_type": "code",
   "execution_count": null,
   "metadata": {
    "collapsed": true
   },
   "outputs": [],
   "source": []
  }
 ],
 "metadata": {
  "kernelspec": {
   "display_name": "Python 3",
   "language": "python",
   "name": "python3"
  },
  "language_info": {
   "codemirror_mode": {
    "name": "ipython",
    "version": 3
   },
   "file_extension": ".py",
   "mimetype": "text/x-python",
   "name": "python",
   "nbconvert_exporter": "python",
   "pygments_lexer": "ipython3",
   "version": "3.6.1"
  }
 },
 "nbformat": 4,
 "nbformat_minor": 2
}
